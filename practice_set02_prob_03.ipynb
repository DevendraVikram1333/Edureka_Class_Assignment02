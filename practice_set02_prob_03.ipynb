{
  "nbformat": 4,
  "nbformat_minor": 0,
  "metadata": {
    "colab": {
      "name": "practice_set02_prob_03.ipynb",
      "provenance": [],
      "collapsed_sections": []
    },
    "kernelspec": {
      "name": "python3",
      "display_name": "Python 3"
    },
    "language_info": {
      "name": "python"
    }
  },
  "cells": [
    {
      "cell_type": "markdown",
      "metadata": {
        "id": "5918XNol8omb"
      },
      "source": [
        "WAP to make two list of number from the user and create a new list such that it contains odd number from the first list and even number from the second list "
      ]
    },
    {
      "cell_type": "code",
      "metadata": {
        "colab": {
          "base_uri": "https://localhost:8080/"
        },
        "id": "iKt4p87P9INc",
        "outputId": "e295cddb-9d56-4fa7-f12c-44f6123a0dce"
      },
      "source": [
        "list01_element=(input(\"enter the number:\"))\n",
        "list02_element=(input(\"enter the number:\"))\n",
        "list01=list(list01_element)\n",
        "for i in range(0,len(list01)):\n",
        "    list01[i]=int(list01[i])\n",
        "print(f\"List01 {list01}\")\n",
        "\n",
        "list02=list(list02_element)\n",
        "for j in range(0,len(list02)):\n",
        "    list02[j]=int(list02[j])\n",
        "print(f\"List02 {list02}\")\n",
        "\n",
        "#finding Even number list from list01 and odd number list from list02\n",
        "\n",
        "listEven=[]\n",
        "listOdd=[]\n",
        "for element in list01:\n",
        "    if element%2==0:\n",
        "        listEven.append(element)\n",
        "print(f\"Even Number obtained from List01 {listEven}\")\n",
        "\n",
        "for elementt in list02:\n",
        "    if elementt%2!=0:\n",
        "        listOdd.append(elementt)\n",
        "print(f\"Odd number list obtained from list02 {listOdd}\")\n",
        "\n",
        "\n"
      ],
      "execution_count": 1,
      "outputs": [
        {
          "output_type": "stream",
          "name": "stdout",
          "text": [
            "enter the number:23452\n",
            "enter the number:345347\n",
            "List01 [2, 3, 4, 5, 2]\n",
            "List02 [3, 4, 5, 3, 4, 7]\n",
            "Even Number obtained from List01 [2, 4, 2]\n",
            "Odd number list obtained from list02 [3, 5, 3, 7]\n"
          ]
        }
      ]
    }
  ]
}
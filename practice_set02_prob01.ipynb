{
  "nbformat": 4,
  "nbformat_minor": 0,
  "metadata": {
    "colab": {
      "name": "practice_set02_prob01.ipynb",
      "provenance": [],
      "collapsed_sections": []
    },
    "kernelspec": {
      "name": "python3",
      "display_name": "Python 3"
    },
    "language_info": {
      "name": "python"
    }
  },
  "cells": [
    {
      "cell_type": "markdown",
      "metadata": {
        "id": "AoeKS2qi-sgV"
      },
      "source": [
        "WAP to check given number is a palindrome"
      ]
    },
    {
      "cell_type": "code",
      "metadata": {
        "colab": {
          "base_uri": "https://localhost:8080/"
        },
        "id": "nzJjyEal-zJZ",
        "outputId": "24c2e450-f5d1-4f4e-bd72-1fd77dd574b6"
      },
      "source": [
        "number=int(input(\"Enter the number:\"))\n",
        "original_number=number\n",
        "reversed=0\n",
        "while(number!=0):\n",
        "  reversed=reversed*10 + number%10\n",
        "  number=number//10\n",
        "if original_number==reversed:\n",
        "  print(f\"Your Entered number is palindrome {original_number} \")\n",
        "else:\n",
        "  print(f\"Entered number is not palindrome {original_number}\")\n"
      ],
      "execution_count": 6,
      "outputs": [
        {
          "output_type": "stream",
          "name": "stdout",
          "text": [
            "Enter the number:1234\n",
            "Entered number is not palindrome 1234\n"
          ]
        }
      ]
    }
  ]
}
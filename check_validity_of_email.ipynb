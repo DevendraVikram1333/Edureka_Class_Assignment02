{
  "nbformat": 4,
  "nbformat_minor": 0,
  "metadata": {
    "colab": {
      "name": "check_validity_of_email.ipynb",
      "provenance": [],
      "collapsed_sections": []
    },
    "kernelspec": {
      "name": "python3",
      "display_name": "Python 3"
    },
    "language_info": {
      "name": "python"
    }
  },
  "cells": [
    {
      "cell_type": "markdown",
      "metadata": {
        "id": "WT3UqeYq-s7p"
      },
      "source": [
        "WAP to check validity of an Email Address"
      ]
    },
    {
      "cell_type": "code",
      "metadata": {
        "colab": {
          "base_uri": "https://localhost:8080/"
        },
        "id": "3gV0xpD8-uFn",
        "outputId": "718fad6d-23a6-430b-a193-8194e0c6d2cf"
      },
      "source": [
        "\n",
        "import re\n",
        "s=input(\"Enter your Email Address\")\n",
        "x=(re.search('[a-zA-Z]+[.]*[_0-9a-zA-Z]*@[a-zA-Z]+.[a-zA-z]+',s))\n",
        "print(x)\n",
        "if x:\n",
        "    print(\"your Email is vaild\")\n",
        "else:\n",
        "    print(\"invalid email\")\n",
        "\n"
      ],
      "execution_count": 1,
      "outputs": [
        {
          "output_type": "stream",
          "name": "stdout",
          "text": [
            "Enter your Email Addressvikram.singh13@gmail.com\n",
            "<re.Match object; span=(0, 24), match='vikram.singh13@gmail.com'>\n",
            "your Email is correct\n"
          ]
        }
      ]
    }
  ]
}